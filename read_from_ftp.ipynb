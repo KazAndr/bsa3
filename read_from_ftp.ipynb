{
 "cells": [
  {
   "cell_type": "code",
   "execution_count": 24,
   "metadata": {},
   "outputs": [],
   "source": [
    "from ftplib import FTP\n",
    "import copy\n",
    "\n",
    "import numpy as np\n",
    "\n",
    "from astropy.coordinates import Angle\n",
    "from astropy.time import Time, TimeDelta\n",
    "from astropy import units as u\n",
    "# для astropy в режиме offline\n",
    "from astropy.utils import iers\n",
    "iers.conf.auto_download = True \n",
    "\n",
    "from secret_key import login, password"
   ]
  },
  {
   "cell_type": "code",
   "execution_count": 25,
   "metadata": {},
   "outputs": [],
   "source": [
    "\"\"\"\n",
    "N1 – 194.149.67.97 (от 20° до 42°)\n",
    "N2 – 194.149.67.38 (от -9° до 20°)\n",
    "\"\"\"\n",
    "\n",
    "con = FTP('194.149.67.97', login, password)"
   ]
  },
  {
   "cell_type": "code",
   "execution_count": 26,
   "metadata": {},
   "outputs": [],
   "source": [
    "data = []\n",
    "con.dir(data.append)"
   ]
  },
  {
   "cell_type": "code",
   "execution_count": 27,
   "metadata": {},
   "outputs": [],
   "source": [
    "file_list = con.nlst('*.pnt')"
   ]
  },
  {
   "cell_type": "code",
   "execution_count": 28,
   "metadata": {},
   "outputs": [],
   "source": [
    "data = []\n",
    "def read_pnt_header(line):\n",
    "    data.append(line.decode(\"utf-8\"))"
   ]
  },
  {
   "cell_type": "code",
   "execution_count": 29,
   "metadata": {},
   "outputs": [],
   "source": [
    "def get_time_begin_and_end(header):\n",
    "    if 'UTC' in header['date_begin']:\n",
    "        # begin\n",
    "        day, month, year = header['date_begin'][2].split('.')\n",
    "        hour, minute, second = header['time_begin'][2].split(':')\n",
    "        isot_time = (year + '-' + month + '-' + day + 'T' +\n",
    "                     hour + ':' + minute + ':' + second \n",
    "        )\n",
    "        time_start = Time(isot_time,\n",
    "                          format='isot', scale='utc', location=('37.36d', '54.50d'),precision=7)\n",
    "        # end\n",
    "        day, month, year = header['date_end'][0].split('.')\n",
    "        hour, minute, second = header['time_end'][0].split(':')\n",
    "        isot_time = (year + '-' + month + '-' + day + 'T' +\n",
    "                     hour + ':' + minute + ':' + second \n",
    "        )\n",
    "        time_end = Time(isot_time,\n",
    "                        format='isot', scale='utc', location=('37.36d', '54.50d'),precision=7)\n",
    "    else:\n",
    "        # begin\n",
    "        day, month, year = header['date_begin'][0].split('.')\n",
    "        hour, minute, second = header['time_begin'][0].split(':')\n",
    "        isot_time = (year + '-' + month + '-' + day + 'T' +\n",
    "                     hour + ':' + minute + ':' + second \n",
    "        )\n",
    "        time_start = Time(isot_time,\n",
    "                          format='isot', scale='utc', location=('37.36d', '54.50d'),precision=7)\n",
    "        time_start -= 4*u.hour\n",
    "        # end\n",
    "        day, month, year = header['date_end'][0].split('.')\n",
    "        hour, minute, second = header['time_end'][0].split(':')\n",
    "        isot_time = (year + '-' + month + '-' + day + 'T' +\n",
    "                     hour + ':' + minute + ':' + second \n",
    "        )\n",
    "        time_end = Time(isot_time,\n",
    "                        format='isot', scale='utc', location=('37.36d', '54.50d'),precision=7)\n",
    "        time_end -= 4*u.hour\n",
    "        \n",
    "    return time_start, time_end\n"
   ]
  },
  {
   "cell_type": "code",
   "execution_count": 30,
   "metadata": {},
   "outputs": [
    {
     "name": "stdout",
     "output_type": "stream",
     "text": [
      "Read was done!\n"
     ]
    }
   ],
   "source": [
    "try:\n",
    "    con.retrbinary('RETR ' + file_list[0], callback=read_pnt_header, blocksize=493)\n",
    "except UnicodeDecodeError:\n",
    "    print('Read was done!')\n",
    "except ConnectionResetError:\n",
    "    print('!!! Connection was aborted !!!')"
   ]
  },
  {
   "cell_type": "code",
   "execution_count": 31,
   "metadata": {},
   "outputs": [],
   "source": [
    "header = {}\n",
    "for line in data[0].split('\\n'):\n",
    "    a, *b = line.split()\n",
    "    header[a] = b"
   ]
  },
  {
   "cell_type": "code",
   "execution_count": 32,
   "metadata": {},
   "outputs": [
    {
     "data": {
      "text/plain": [
       "{'alpha': ['alpha'],\n",
       " 'date_begin': ['31.03.2019', 'UTC', '31.03.2019'],\n",
       " 'date_end': ['31.03.2019'],\n",
       " 'delta': ['delta'],\n",
       " 'fbands': ['109.20751953125',\n",
       "  '109.62255859375',\n",
       "  '110.03759765625',\n",
       "  '110.45263671875',\n",
       "  '110.86767578125',\n",
       "  '111.287597656'],\n",
       " 'fcentral': ['110.25'],\n",
       " 'modulus': ['1', '2', '3', '4', '5', '6'],\n",
       " 'nbands': ['6'],\n",
       " 'npoints': ['36018'],\n",
       " 'numpar': ['16'],\n",
       " 'source': ['source'],\n",
       " 'time_begin': ['23:00:00', 'UTC', '19:00:00'],\n",
       " 'time_end': ['23:59:59'],\n",
       " 'tresolution': ['99.9424'],\n",
       " 'wb_total': ['2.5'],\n",
       " 'wbands': ['0.4150390625',\n",
       "  '0.4150390625',\n",
       "  '0.4150390625',\n",
       "  '0.4150390625',\n",
       "  '0.4150390625',\n",
       "  '0.4248046875']}"
      ]
     },
     "execution_count": 32,
     "metadata": {},
     "output_type": "execute_result"
    }
   ],
   "source": [
    "header"
   ]
  },
  {
   "cell_type": "code",
   "execution_count": 33,
   "metadata": {},
   "outputs": [],
   "source": [
    "t_b, t_e = get_time_begin_and_end(header)"
   ]
  },
  {
   "cell_type": "code",
   "execution_count": 34,
   "metadata": {},
   "outputs": [
    {
     "name": "stdout",
     "output_type": "stream",
     "text": [
      "2019-03-31T19:00:00.0000000 2019-03-31T23:59:59.0000000\n"
     ]
    }
   ],
   "source": [
    "print(t_b, t_e)"
   ]
  },
  {
   "cell_type": "code",
   "execution_count": 35,
   "metadata": {},
   "outputs": [
    {
     "data": {
      "text/plain": [
       "<Time object: scale='utc' format='isot' value=2019-03-31T19:00:00.0000000>"
      ]
     },
     "execution_count": 35,
     "metadata": {},
     "output_type": "execute_result"
    }
   ],
   "source": [
    "t_b.utc"
   ]
  },
  {
   "cell_type": "code",
   "execution_count": 40,
   "metadata": {},
   "outputs": [],
   "source": [
    "# startime_begin = (t_b.sidereal_time('apparent'))\n",
    "# startime_end = (t_e.sidereal_time('apparent'))"
   ]
  },
  {
   "cell_type": "code",
   "execution_count": 37,
   "metadata": {},
   "outputs": [],
   "source": [
    "def my_sidereal_time(time):\n",
    "    t2000 = Time('2000-01-01T00:00:00', format='isot', scale='utc', precision=7)\n",
    "    t = time.jd - t2000.jd - 1\n",
    "    t /= 36525\n",
    "    s0 = 6 + 41 / 60.0 + 50.55 / 3600.0 + 8640184 / 3600.0 * t + 0.093104 / 3600.0 * t * t - 6.27 / 3600.0 * (1e-6) * t * t * t\n",
    "    t_culm = (time.datetime.hour*u.hour \n",
    "          + time.datetime.minute*u.minute\n",
    "          + time.datetime.second*u.second\n",
    "          + time.datetime.microsecond*u.microsecond\n",
    "             )\n",
    "    alambda = 2 + 30/60.0 + 34/3600.0\n",
    "    cnst = 2.7379093e-3\n",
    "    s_culm = s0 + (cnst + 1) * t_culm.value + alambda\n",
    "    delta_lucha = 0.89\n",
    "    fi = 0.956829\n",
    "    be = 0.008436\n",
    "    delt = delta_lucha\n",
    "    culm = s_culm\n",
    "    aa = ((np.sin(fi))**2) * ((np.cos(be))**2) + ((np.cos(fi))**2)\n",
    "    bb = 2 * np.sin(fi) * np.cos(be) * np.sin(delt)\n",
    "    cc = ((np.sin(delt))**2) - ((np.cos(fi))**2)\n",
    "\n",
    "    x = (bb + np.abs(bb) - 4 * aa * cc) / (2 * aa)\n",
    "    y = x * np.sin(be) / np.cos(delt)\n",
    "    z = np.sqrt(1 - y * y)\n",
    "\n",
    "    t = y / z\n",
    "    alf = culm * np.pi / 12 + np.arctan(t)\n",
    "    \n",
    "    rs = 4.8481368e-6\n",
    "    am = 46.1 * rs\n",
    "    an = 20.4 * rs\n",
    "\n",
    "    alfa1 = copy.copy(alf)\n",
    "    delta1 = copy.copy(delt)\n",
    "    alfa = copy.copy(alf)\n",
    "\n",
    "    for i in range(2):\n",
    "        alf_res = alfa - (am + an * np.sin(alfa1) * np.tan(delta1)) * t\n",
    "        delt_res = delt - an * np.cos(alfa1) * t\n",
    "        alfa1 = (alf_res + alfa) / 2\n",
    "        delta1 = (delt_res + delt) / 2\n",
    "\n",
    "    alf_res /= (15 * rs);\n",
    "    delt_res /= rs;\n",
    "\n",
    "    alf_res /= 3600;\n",
    "    while alf_res >= 24:\n",
    "        alf_res -= 24\n",
    "\n",
    "    while alf_res < 0:\n",
    "        alf_res += 24\n",
    "\n",
    "    print(Angle(alf_res*u.hourangle))\n",
    "    \"\"\"\n",
    "    if (realSeconds): {\n",
    "    *realSeconds = alf_res * 3600;\n",
    "    }\n",
    "    \"\"\"\n",
    "    delt_res /= 3600;\n",
    "    while delt_res >= 360:\n",
    "        delt_res -= 360\n",
    "\n",
    "    while delt_res < 0:\n",
    "        delt_res += 360\n",
    "    print(Angle(delt_res*u.hourangle))"
   ]
  },
  {
   "cell_type": "code",
   "execution_count": 38,
   "metadata": {},
   "outputs": [
    {
     "name": "stdout",
     "output_type": "stream",
     "text": [
      "10h09m23.9252s\n",
      "50h59m35.8539s\n"
     ]
    }
   ],
   "source": [
    "my_sidereal_time(t_b)"
   ]
  },
  {
   "cell_type": "code",
   "execution_count": 42,
   "metadata": {},
   "outputs": [
    {
     "name": "stdout",
     "output_type": "stream",
     "text": [
      "11h09m42.6367s\n",
      "50h59m35.8719s\n"
     ]
    }
   ],
   "source": [
    "my_sidereal_time(t_e - 4*u.hour)"
   ]
  },
  {
   "cell_type": "code",
   "execution_count": 152,
   "metadata": {},
   "outputs": [],
   "source": [
    "iers.IERS_A_URL = 'http://toshi.nofs.navy.mil/ser7/finals2000A.all'\n",
    "import astroplan"
   ]
  },
  {
   "cell_type": "code",
   "execution_count": 156,
   "metadata": {},
   "outputs": [
    {
     "name": "stderr",
     "output_type": "stream",
     "text": [
      "ERROR: usage: ipykernel_launcher.py [options] [file_or_dir] [file_or_dir] [...]\n",
      "ipykernel_launcher.py: error: unrecognized arguments: --remote-data=none\n",
      "  inifile: None\n",
      "  rootdir: F:\\YandexDisk\\3.Programing\\work\\BSA\\BSA3\\bsa_reader\n",
      "\n"
     ]
    },
    {
     "data": {
      "text/plain": [
       "4"
      ]
     },
     "execution_count": 156,
     "metadata": {},
     "output_type": "execute_result"
    }
   ],
   "source": [
    "astroplan.test()"
   ]
  },
  {
   "cell_type": "code",
   "execution_count": null,
   "metadata": {},
   "outputs": [],
   "source": []
  }
 ],
 "metadata": {
  "kernelspec": {
   "display_name": "Python 3",
   "language": "python",
   "name": "python3"
  },
  "language_info": {
   "codemirror_mode": {
    "name": "ipython",
    "version": 3
   },
   "file_extension": ".py",
   "mimetype": "text/x-python",
   "name": "python",
   "nbconvert_exporter": "python",
   "pygments_lexer": "ipython3",
   "version": "3.5.5"
  }
 },
 "nbformat": 4,
 "nbformat_minor": 2
}
