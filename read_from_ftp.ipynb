{
 "cells": [
  {
   "cell_type": "code",
   "execution_count": 85,
   "metadata": {},
   "outputs": [],
   "source": [
    "from ftplib import FTP\n",
    "\n",
    "from astropy.time import Time, TimeDelta\n",
    "from astropy import units as u\n",
    "# для astropy в режиме offline\n",
    "from astropy.utils import iers\n",
    "iers.conf.auto_download = False  \n",
    "\n",
    "from secret_key import login, password"
   ]
  },
  {
   "cell_type": "code",
   "execution_count": 86,
   "metadata": {},
   "outputs": [],
   "source": [
    "\"\"\"\n",
    "N1 – 194.149.67.97 (от 20° до 42°)\n",
    "N2 – 194.149.67.38 (от -9° до 20°)\n",
    "\"\"\"\n",
    "\n",
    "con = FTP('194.149.67.97', login, password)"
   ]
  },
  {
   "cell_type": "code",
   "execution_count": 87,
   "metadata": {},
   "outputs": [],
   "source": [
    "data = []\n",
    "con.dir(data.append)"
   ]
  },
  {
   "cell_type": "code",
   "execution_count": 88,
   "metadata": {},
   "outputs": [],
   "source": [
    "file_list = con.nlst('*.pnt')"
   ]
  },
  {
   "cell_type": "code",
   "execution_count": 89,
   "metadata": {},
   "outputs": [],
   "source": [
    "data = []\n",
    "def read_pnt_header(line):\n",
    "    data.append(line.decode(\"utf-8\"))"
   ]
  },
  {
   "cell_type": "code",
   "execution_count": 90,
   "metadata": {},
   "outputs": [],
   "source": [
    "def get_time_begin_and_end(header):\n",
    "    if 'UTC' in header['date_begin']:\n",
    "        # begin\n",
    "        day, month, year = header['date_begin'][2].split('.')\n",
    "        hour, minute, second = header['time_begin'][2].split(':')\n",
    "        isot_time = (year + '-' + month + '-' + day + 'T' +\n",
    "                     hour + ':' + minute + ':' + second \n",
    "        )\n",
    "        time_start = Time(isot_time, format='isot', scale='utc', precision=7)\n",
    "        # end\n",
    "        day, month, year = header['date_end'][0].split('.')\n",
    "        hour, minute, second = header['time_end'][0].split(':')\n",
    "        isot_time = (year + '-' + month + '-' + day + 'T' +\n",
    "                     hour + ':' + minute + ':' + second \n",
    "        )\n",
    "        time_end = Time(isot_time, format='isot', scale='utc', precision=7)\n",
    "    else:\n",
    "        # begin\n",
    "        day, month, year = header['date_begin'][0].split('.')\n",
    "        hour, minute, second = header['time_begin'][0].split(':')\n",
    "        isot_time = (year + '-' + month + '-' + day + 'T' +\n",
    "                     hour + ':' + minute + ':' + second \n",
    "        )\n",
    "        time_start = Time(isot_time, format='isot', scale='utc', precision=7)\n",
    "        time_start -= 4*u.hour\n",
    "        # end\n",
    "        day, month, year = header['date_end'][0].split('.')\n",
    "        hour, minute, second = header['time_end'][0].split(':')\n",
    "        isot_time = (year + '-' + month + '-' + day + 'T' +\n",
    "                     hour + ':' + minute + ':' + second \n",
    "        )\n",
    "        time_end = Time(isot_time, format='isot', scale='utc', precision=7)\n",
    "        time_end -= 4*u.hour\n",
    "        \n",
    "    return time_start, time_end\n",
    "    "
   ]
  },
  {
   "cell_type": "code",
   "execution_count": 91,
   "metadata": {},
   "outputs": [
    {
     "name": "stdout",
     "output_type": "stream",
     "text": [
      "Read was done!\n"
     ]
    }
   ],
   "source": [
    "try:\n",
    "    con.retrbinary('RETR ' + file_list[1], callback=read_pnt_header, blocksize=493)\n",
    "except UnicodeDecodeError:\n",
    "    print('Read was done!')\n",
    "except ConnectionResetError:\n",
    "    print('!!! Connection was aborted !!!')"
   ]
  },
  {
   "cell_type": "code",
   "execution_count": 92,
   "metadata": {},
   "outputs": [],
   "source": [
    "header = {}\n",
    "for line in data[0].split('\\n'):\n",
    "    a, *b = line.split()\n",
    "    header[a] = b"
   ]
  },
  {
   "cell_type": "code",
   "execution_count": 93,
   "metadata": {},
   "outputs": [
    {
     "data": {
      "text/plain": [
       "{'alpha': ['alpha'],\n",
       " 'date_begin': ['01.04.2019', 'UTC', '31.03.2019'],\n",
       " 'date_end': ['01.04.2019'],\n",
       " 'delta': ['delta'],\n",
       " 'fbands': ['109.20751953125',\n",
       "  '109.62255859375',\n",
       "  '110.03759765625',\n",
       "  '110.45263671875',\n",
       "  '110.86767578125',\n",
       "  '111.28759765625'],\n",
       " 'fcentral': ['110.25'],\n",
       " 'modulus': ['1', '2', '3', '4', '5', '6'],\n",
       " 'nbands': ['6'],\n",
       " 'npoints': ['36018'],\n",
       " 'numpar': ['16'],\n",
       " 'source': ['source'],\n",
       " 'time_begin': ['0:00:00', 'UTC', '20:00:00'],\n",
       " 'time_end': ['0:59:59'],\n",
       " 'tresolution': ['99.9424'],\n",
       " 'wb_total': ['2.5'],\n",
       " 'wbands': ['0.4150390625',\n",
       "  '0.4150390625',\n",
       "  '0.4150390625',\n",
       "  '0.4150390625',\n",
       "  '0.4150390625',\n",
       "  '0.4248046875']}"
      ]
     },
     "execution_count": 93,
     "metadata": {},
     "output_type": "execute_result"
    }
   ],
   "source": [
    "header"
   ]
  },
  {
   "cell_type": "code",
   "execution_count": 94,
   "metadata": {},
   "outputs": [],
   "source": [
    "t_b, t_e = get_time_begin_and_end(header)"
   ]
  },
  {
   "cell_type": "code",
   "execution_count": 95,
   "metadata": {},
   "outputs": [
    {
     "name": "stdout",
     "output_type": "stream",
     "text": [
      "2019-03-31T20:00:00.0000000 2019-04-01T00:59:59.0000000\n"
     ]
    }
   ],
   "source": [
    "print(t_b, t_e)"
   ]
  },
  {
   "cell_type": "code",
   "execution_count": null,
   "metadata": {},
   "outputs": [],
   "source": []
  },
  {
   "cell_type": "code",
   "execution_count": null,
   "metadata": {},
   "outputs": [],
   "source": []
  }
 ],
 "metadata": {
  "kernelspec": {
   "display_name": "Python 3",
   "language": "python",
   "name": "python3"
  },
  "language_info": {
   "codemirror_mode": {
    "name": "ipython",
    "version": 3
   },
   "file_extension": ".py",
   "mimetype": "text/x-python",
   "name": "python",
   "nbconvert_exporter": "python",
   "pygments_lexer": "ipython3",
   "version": "3.5.2"
  }
 },
 "nbformat": 4,
 "nbformat_minor": 2
}
