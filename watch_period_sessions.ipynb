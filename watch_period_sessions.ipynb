{
 "cells": [
  {
   "cell_type": "code",
   "execution_count": 84,
   "metadata": {},
   "outputs": [],
   "source": [
    "import os\n",
    "import glob\n",
    "import pickle\n",
    "\n",
    "import numpy as np\n",
    "import pandas as pd\n",
    "from scipy import signal\n",
    "from scipy.interpolate import InterpolatedUnivariateSpline\n",
    "from astropy import units as u\n",
    "from astropy.time import Time\n",
    "from tqdm import tqdm_notebook\n",
    "\n",
    "import matplotlib.pyplot as plt"
   ]
  },
  {
   "cell_type": "code",
   "execution_count": 122,
   "metadata": {},
   "outputs": [],
   "source": [
    "pulsar = '1237+25'"
   ]
  },
  {
   "cell_type": "code",
   "execution_count": 123,
   "metadata": {},
   "outputs": [
    {
     "name": "stdout",
     "output_type": "stream",
     "text": [
      "['.\\\\data_part\\\\1237+25\\\\030518_00_N1_00_part_1237+25.log', '.\\\\data_part\\\\1237+25\\\\040518_00_N1_00_part_1237+25.log', '.\\\\data_part\\\\1237+25\\\\050518_00_N1_00_part_1237+25.log', '.\\\\data_part\\\\1237+25\\\\070518_00_N1_00_part_1237+25.log', '.\\\\data_part\\\\1237+25\\\\080518_00_N1_00_part_1237+25.log', '.\\\\data_part\\\\1237+25\\\\100518_23_N1_00_part_1237+25.log', '.\\\\data_part\\\\1237+25\\\\110518_23_N1_00_part_1237+25.log', '.\\\\data_part\\\\1237+25\\\\120518_23_N1_00_part_1237+25.log', '.\\\\data_part\\\\1237+25\\\\130518_23_N1_00_part_1237+25.log', '.\\\\data_part\\\\1237+25\\\\140518_23_N1_00_part_1237+25.log', '.\\\\data_part\\\\1237+25\\\\150518_23_N1_00_part_1237+25.log', '.\\\\data_part\\\\1237+25\\\\160518_23_N1_00_part_1237+25.log', '.\\\\data_part\\\\1237+25\\\\170518_23_N1_00_part_1237+25.log', '.\\\\data_part\\\\1237+25\\\\180518_23_N1_00_part_1237+25.log', '.\\\\data_part\\\\1237+25\\\\190518_23_N1_00_part_1237+25.log', '.\\\\data_part\\\\1237+25\\\\200518_23_N1_00_part_1237+25.log', '.\\\\data_part\\\\1237+25\\\\210518_23_N1_00_part_1237+25.log', '.\\\\data_part\\\\1237+25\\\\220518_23_N1_00_part_1237+25.log', '.\\\\data_part\\\\1237+25\\\\230518_23_N1_00_part_1237+25.log', '.\\\\data_part\\\\1237+25\\\\240518_22_N1_00_part_1237+25.log', '.\\\\data_part\\\\1237+25\\\\250518_22_N1_00_part_1237+25.log', '.\\\\data_part\\\\1237+25\\\\260518_22_N1_00_part_1237+25.log', '.\\\\data_part\\\\1237+25\\\\270518_22_N1_00_part_1237+25.log', '.\\\\data_part\\\\1237+25\\\\280518_22_N1_00_part_1237+25.log', '.\\\\data_part\\\\1237+25\\\\290518_22_N1_00_part_1237+25.log', '.\\\\data_part\\\\1237+25\\\\300518_22_N1_00_part_1237+25.log', '.\\\\data_part\\\\1237+25\\\\310518_22_N1_00_part_1237+25.log']\n"
     ]
    }
   ],
   "source": [
    "files = sorted(glob.glob('.{0}data_part{0}{1}{0}*{1}.log'.format(os.sep, pulsar)))\n",
    "print(files)"
   ]
  },
  {
   "cell_type": "code",
   "execution_count": 124,
   "metadata": {},
   "outputs": [],
   "source": [
    "full_data = []\n",
    "for file in files:\n",
    "    with open(file, 'rb') as f:\n",
    "        data = pickle.load(f)\n",
    "    full_data.append(data)"
   ]
  },
  {
   "cell_type": "code",
   "execution_count": 125,
   "metadata": {},
   "outputs": [
    {
     "data": {
      "application/vnd.jupyter.widget-view+json": {
       "model_id": "25b6e7b9195e4788ab6f950589b2b7c5",
       "version_major": 2,
       "version_minor": 0
      },
      "text/plain": [
       "HBox(children=(IntProgress(value=0, max=27), HTML(value='')))"
      ]
     },
     "metadata": {},
     "output_type": "display_data"
    },
    {
     "name": "stderr",
     "output_type": "stream",
     "text": [
      "c:\\users\\professional\\appdata\\local\\programs\\python\\python35\\lib\\site-packages\\ipykernel_launcher.py:8: DeprecationWarning: object of type <class 'numpy.float64'> cannot be safely interpreted as an integer.\n",
      "  \n"
     ]
    },
    {
     "name": "stdout",
     "output_type": "stream",
     "text": [
      "\n"
     ]
    }
   ],
   "source": [
    "fs = 10 # частотота дискретизации временных рядов \n",
    "inc = 10000 # Коэффициеон увеличения количества точек сплайна\n",
    "dict_result  = {}\n",
    "for data in tqdm_notebook(full_data):\n",
    "    f, Pxx_den = signal.periodogram(data[3], fs)\n",
    "    inter_point = max(f)*inc\n",
    "    spl = InterpolatedUnivariateSpline(f, Pxx_den)\n",
    "    xs = np.linspace(0, max(f), inter_point) \n",
    "    spline = spl(xs)\n",
    "    points = np.argwhere(np.diff(np.sign(spline - 0.3*np.max(spline)))).flatten()\n",
    "    points = [i for i in points if xs[i] > 0.009]\n",
    "    freq = []\n",
    "    for i in range(1, len(points), 2):\n",
    "        max_point = np.argmax(spline[points[i - 1]:points[i]])\n",
    "        freq.append(xs[points[i - 1] + max_point])\n",
    "    dict_result[int(data[0].mjd)] = pd.Series(freq)\n",
    "res_table = pd.DataFrame(dict_result).T"
   ]
  },
  {
   "cell_type": "code",
   "execution_count": 129,
   "metadata": {},
   "outputs": [],
   "source": [
    "res_table = res_table.drop(index=58241)"
   ]
  },
  {
   "cell_type": "code",
   "execution_count": 130,
   "metadata": {},
   "outputs": [
    {
     "data": {
      "image/png": "[encoded data removed]",
      "text/plain": [
       "<Figure size 432x288 with 1 Axes>"
      ]
     },
     "metadata": {},
     "output_type": "display_data"
    }
   ],
   "source": [
    "plt.ylabel('Frequency, Hz')\n",
    "plt.xlabel('MJD')\n",
    "for i in res_table.columns:\n",
    "    plt.plot(res_table[i], '+')\n",
    "plt.show()"
   ]
  },
  {
   "cell_type": "code",
   "execution_count": 131,
   "metadata": {},
   "outputs": [
    {
     "data": {
      "image/png": "[encoded data removed]",
      "text/plain": [
       "<Figure size 432x288 with 1 Axes>"
      ]
     },
     "metadata": {},
     "output_type": "display_data"
    }
   ],
   "source": [
    "plt.ylabel('Frequency, Hz')\n",
    "plt.xlabel('MJD')\n",
    "plt.plot(res_table[0], '+')\n",
    "plt.show()"
   ]
  },
  {
   "cell_type": "code",
   "execution_count": 132,
   "metadata": {},
   "outputs": [
    {
     "name": "stdout",
     "output_type": "stream",
     "text": [
      "0.722814 +- 0.000321\n"
     ]
    }
   ],
   "source": [
    "print(round(np.median(res_table[0]), 6), '+-', round(np.std(res_table[0]), 6))"
   ]
  },
  {
   "cell_type": "code",
   "execution_count": null,
   "metadata": {},
   "outputs": [],
   "source": []
  }
 ],
 "metadata": {
  "kernelspec": {
   "display_name": "Python 3",
   "language": "python",
   "name": "python3"
  },
  "language_info": {
   "codemirror_mode": {
    "name": "ipython",
    "version": 3
   },
   "file_extension": ".py",
   "mimetype": "text/x-python",
   "name": "python",
   "nbconvert_exporter": "python",
   "pygments_lexer": "ipython3",
   "version": "3.5.2"
  }
 },
 "nbformat": 4,
 "nbformat_minor": 2
}
