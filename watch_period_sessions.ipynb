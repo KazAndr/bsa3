{
 "cells": [
  {
   "cell_type": "code",
   "execution_count": 1,
   "metadata": {},
   "outputs": [],
   "source": [
    "import os\n",
    "import glob\n",
    "import pickle\n",
    "\n",
    "import numpy as np\n",
    "from astropy import units as u\n",
    "from astropy.time import Time\n",
    "\n",
    "import matplotlib.pyplot as plt"
   ]
  },
  {
   "cell_type": "code",
   "execution_count": 2,
   "metadata": {},
   "outputs": [],
   "source": [
    "pulsar = '1237+25'"
   ]
  },
  {
   "cell_type": "code",
   "execution_count": 12,
   "metadata": {},
   "outputs": [
    {
     "name": "stdout",
     "output_type": "stream",
     "text": [
      "['.\\\\data_part\\\\1237+25\\\\030518_00_N1_00_part_1237+25.log', '.\\\\data_part\\\\1237+25\\\\040518_00_N1_00_part_1237+25.log', '.\\\\data_part\\\\1237+25\\\\050518_00_N1_00_part_1237+25.log', '.\\\\data_part\\\\1237+25\\\\070518_00_N1_00_part_1237+25.log', '.\\\\data_part\\\\1237+25\\\\080518_00_N1_00_part_1237+25.log', '.\\\\data_part\\\\1237+25\\\\110518_23_N1_00_part_1237+25.log', '.\\\\data_part\\\\1237+25\\\\120518_23_N1_00_part_1237+25.log', '.\\\\data_part\\\\1237+25\\\\130518_23_N1_00_part_1237+25.log', '.\\\\data_part\\\\1237+25\\\\140518_23_N1_00_part_1237+25.log', '.\\\\data_part\\\\1237+25\\\\150518_23_N1_00_part_1237+25.log', '.\\\\data_part\\\\1237+25\\\\160518_23_N1_00_part_1237+25.log', '.\\\\data_part\\\\1237+25\\\\170518_23_N1_00_part_1237+25.log', '.\\\\data_part\\\\1237+25\\\\180518_23_N1_00_part_1237+25.log', '.\\\\data_part\\\\1237+25\\\\190518_23_N1_00_part_1237+25.log', '.\\\\data_part\\\\1237+25\\\\200518_23_N1_00_part_1237+25.log', '.\\\\data_part\\\\1237+25\\\\210518_23_N1_00_part_1237+25.log', '.\\\\data_part\\\\1237+25\\\\220518_23_N1_00_part_1237+25.log', '.\\\\data_part\\\\1237+25\\\\230518_23_N1_00_part_1237+25.log', '.\\\\data_part\\\\1237+25\\\\240518_22_N1_00_part_1237+25.log', '.\\\\data_part\\\\1237+25\\\\250518_22_N1_00_part_1237+25.log', '.\\\\data_part\\\\1237+25\\\\260518_22_N1_00_part_1237+25.log', '.\\\\data_part\\\\1237+25\\\\270518_22_N1_00_part_1237+25.log', '.\\\\data_part\\\\1237+25\\\\280518_22_N1_00_part_1237+25.log', '.\\\\data_part\\\\1237+25\\\\290518_22_N1_00_part_1237+25.log', '.\\\\data_part\\\\1237+25\\\\300518_22_N1_00_part_1237+25.log', '.\\\\data_part\\\\1237+25\\\\310518_22_N1_00_part_1237+25.log']\n"
     ]
    }
   ],
   "source": [
    "files = sorted(glob.glob('.{0}data_part{0}{1}{0}*{1}.log'.format(os.sep, pulsar)))\n",
    "print(files)"
   ]
  },
  {
   "cell_type": "code",
   "execution_count": 4,
   "metadata": {},
   "outputs": [],
   "source": [
    "full_data = []\n",
    "for file in files:\n",
    "    with open(file, 'rb') as f:\n",
    "        data = pickle.load(f)\n",
    "    full_data.append(data)"
   ]
  },
  {
   "cell_type": "code",
   "execution_count": 14,
   "metadata": {},
   "outputs": [
    {
     "data": {
      "text/plain": [
       "[0.72265625,\n",
       " 1.4453125,\n",
       " 1.44775390625,\n",
       " 2.16796875,\n",
       " 2.17041015625,\n",
       " 2.890625,\n",
       " 2.89306640625]"
      ]
     },
     "execution_count": 14,
     "metadata": {},
     "output_type": "execute_result"
    }
   ],
   "source": [
    "full_data[2][2]"
   ]
  },
  {
   "cell_type": "code",
   "execution_count": null,
   "metadata": {},
   "outputs": [],
   "source": []
  },
  {
   "cell_type": "code",
   "execution_count": null,
   "metadata": {},
   "outputs": [],
   "source": []
  }
 ],
 "metadata": {
  "kernelspec": {
   "display_name": "Python 3",
   "language": "python",
   "name": "python3"
  },
  "language_info": {
   "codemirror_mode": {
    "name": "ipython",
    "version": 3
   },
   "file_extension": ".py",
   "mimetype": "text/x-python",
   "name": "python",
   "nbconvert_exporter": "python",
   "pygments_lexer": "ipython3",
   "version": "3.5.2"
  }
 },
 "nbformat": 4,
 "nbformat_minor": 2
}
