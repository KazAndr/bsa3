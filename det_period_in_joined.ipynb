{
 "cells": [
  {
   "cell_type": "code",
   "execution_count": 1,
   "metadata": {},
   "outputs": [],
   "source": [
    "import os\n",
    "import glob\n",
    "import pickle\n",
    "\n",
    "import numpy as np\n",
    "from scipy import signal\n",
    "from scipy.signal import hilbert\n",
    "from astropy import units as u\n",
    "from astropy.time import Time\n",
    "\n",
    "import matplotlib.pyplot as plt"
   ]
  },
  {
   "cell_type": "code",
   "execution_count": 2,
   "metadata": {},
   "outputs": [],
   "source": [
    "resol = 0.1*u.second"
   ]
  },
  {
   "cell_type": "code",
   "execution_count": 3,
   "metadata": {},
   "outputs": [],
   "source": [
    "pulsar = '1133+16'"
   ]
  },
  {
   "cell_type": "code",
   "execution_count": 4,
   "metadata": {},
   "outputs": [
    {
     "name": "stdout",
     "output_type": "stream",
     "text": [
      "['./data_part/1133+16\\\\010618_21_N2_00_part_1133+16.log', './data_part/1133+16\\\\020618_21_N2_00_part_1133+16.log', './data_part/1133+16\\\\030618_21_N2_00_part_1133+16.log', './data_part/1133+16\\\\040618_21_N2_00_part_1133+16.log', './data_part/1133+16\\\\050618_21_N2_00_part_1133+16.log', './data_part/1133+16\\\\060618_21_N2_00_part_1133+16.log', './data_part/1133+16\\\\070618_20_N2_00_part_1133+16.log', './data_part/1133+16\\\\080618_20_N2_00_part_1133+16.log', './data_part/1133+16\\\\090618_20_N2_00_part_1133+16.log', './data_part/1133+16\\\\100618_20_N2_00_part_1133+16.log', './data_part/1133+16\\\\110618_20_N2_00_part_1133+16.log', './data_part/1133+16\\\\120618_20_N2_00_part_1133+16.log', './data_part/1133+16\\\\130618_20_N2_00_part_1133+16.log', './data_part/1133+16\\\\140618_20_N2_00_part_1133+16.log', './data_part/1133+16\\\\150618_20_N2_00_part_1133+16.log', './data_part/1133+16\\\\160618_20_N2_00_part_1133+16.log', './data_part/1133+16\\\\170618_20_N2_00_part_1133+16.log', './data_part/1133+16\\\\180618_20_N2_00_part_1133+16.log', './data_part/1133+16\\\\190618_20_N2_00_part_1133+16.log', './data_part/1133+16\\\\200618_20_N2_00_part_1133+16.log', './data_part/1133+16\\\\210618_20_N2_00_part_1133+16.log', './data_part/1133+16\\\\220618_19_N2_00_part_1133+16.log', './data_part/1133+16\\\\230618_19_N2_00_part_1133+16.log', './data_part/1133+16\\\\240618_19_N2_00_part_1133+16.log', './data_part/1133+16\\\\250618_19_N2_00_part_1133+16.log', './data_part/1133+16\\\\260618_19_N2_00_part_1133+16.log', './data_part/1133+16\\\\270618_19_N2_00_part_1133+16.log', './data_part/1133+16\\\\280618_19_N2_00_part_1133+16.log', './data_part/1133+16\\\\290618_19_N2_00_part_1133+16.log', './data_part/1133+16\\\\300618_19_N2_00_part_1133+16.log']\n"
     ]
    }
   ],
   "source": [
    "files = sorted(glob.glob('./data_part/' + pulsar + os.sep +'*' + pulsar + '.log'))\n",
    "print(files)"
   ]
  },
  {
   "cell_type": "code",
   "execution_count": 5,
   "metadata": {},
   "outputs": [],
   "source": [
    "full_data = []\n",
    "for file in files:\n",
    "    with open(file, 'rb') as f:\n",
    "        data = pickle.load(f)\n",
    "    full_data.append(data)"
   ]
  },
  {
   "cell_type": "code",
   "execution_count": 6,
   "metadata": {},
   "outputs": [],
   "source": [
    "joined_array = full_data[0][3]\n",
    "for i in range(1,len(full_data[:5])):\n",
    "    dt = full_data[i][1] - full_data[i-1][1] \n",
    "    zeros = np.zeros(int(round((dt.to(u.second)/resol).value, 0)))\n",
    "    joined_array = np.append(joined_array, zeros)\n",
    "    joined_array = np.append(joined_array, full_data[i][3])"
   ]
  },
  {
   "cell_type": "code",
   "execution_count": 7,
   "metadata": {},
   "outputs": [],
   "source": [
    "n = len(joined_array)"
   ]
  },
  {
   "cell_type": "code",
   "execution_count": 8,
   "metadata": {},
   "outputs": [],
   "source": [
    "\"\"\"\n",
    "Переводим число x в двоичную систему. \n",
    "Предположим, получилось 101, количество цифр равно 3.\n",
    "Значит, наше число содержится между 100 и 1000. \n",
    "Переводим 100 и 1000 в десятичную, и вычмсляем разность между ними и x.\n",
    "\"\"\"\n",
    "x = bin(n)\n",
    "x_high = '0b1' + '0'*(len(x[2:]))\n",
    "add_zeros_val = int(x_high, 2) - len(joined_array)"
   ]
  },
  {
   "cell_type": "code",
   "execution_count": 9,
   "metadata": {},
   "outputs": [],
   "source": [
    "joined_array = np.append(joined_array, np.zeros(add_zeros_val))\n",
    "#joined_array = np.append(joined_array, np.zeros(len(joined_array)))\n",
    "fs = 10 # понять физический смысл этого числа"
   ]
  },
  {
   "cell_type": "code",
   "execution_count": 10,
   "metadata": {},
   "outputs": [
    {
     "data": {
      "image/png": "[encoded data removed]",
      "text/plain": [
       "<Figure size 432x288 with 1 Axes>"
      ]
     },
     "metadata": {},
     "output_type": "display_data"
    }
   ],
   "source": [
    "# signal.welch\n",
    "f_1, Pxx_spec = signal.welch(joined_array, fs, 'flattop', 2048*10, scaling='spectrum')\n",
    "plt.figure()\n",
    "plt.plot(f_1, Pxx_spec)\n",
    "#plt.plot(f, Pxx_den)\n",
    "plt.xlabel('frequency [Hz]')\n",
    "plt.ylabel('Linear spectrum [V RMS]')\n",
    "plt.title('Power spectrum (scipy.signal.welch)')\n",
    "plt.axhline(0.3*np.max(Pxx_spec))\n",
    "# plt.xlim(0.8, 0.9)\n",
    "plt.show()"
   ]
  },
  {
   "cell_type": "code",
   "execution_count": 11,
   "metadata": {},
   "outputs": [],
   "source": [
    "idx = np.argwhere(np.diff(np.sign(Pxx_spec - 0.3*np.max(Pxx_spec)))).flatten()"
   ]
  },
  {
   "cell_type": "code",
   "execution_count": 12,
   "metadata": {},
   "outputs": [],
   "source": [
    "idx = idx[1:] # В том случае, если захватывается 0"
   ]
  },
  {
   "cell_type": "code",
   "execution_count": 13,
   "metadata": {},
   "outputs": [
    {
     "name": "stdout",
     "output_type": "stream",
     "text": [
      "0.84130859375\n",
      "1.6826171875\n",
      "2.52392578125\n",
      "3.365234375\n",
      "4.20654296875\n"
     ]
    }
   ],
   "source": [
    "for i in range(1, len(idx), 2):\n",
    "    max_point = np.argmax(Pxx_spec[idx[i - 1]:idx[i]])\n",
    "    print(f_1[idx[i - 1] + max_point])"
   ]
  },
  {
   "cell_type": "code",
   "execution_count": 17,
   "metadata": {},
   "outputs": [
    {
     "data": {
      "text/plain": [
       "0.841064453125"
      ]
     },
     "execution_count": 17,
     "metadata": {},
     "output_type": "execute_result"
    }
   ],
   "source": [
    "(f_1[idx[0]] + f_1[idx[1]])/2"
   ]
  },
  {
   "cell_type": "code",
   "execution_count": null,
   "metadata": {},
   "outputs": [],
   "source": []
  }
 ],
 "metadata": {
  "kernelspec": {
   "display_name": "Python 3",
   "language": "python",
   "name": "python3"
  },
  "language_info": {
   "codemirror_mode": {
    "name": "ipython",
    "version": 3
   },
   "file_extension": ".py",
   "mimetype": "text/x-python",
   "name": "python",
   "nbconvert_exporter": "python",
   "pygments_lexer": "ipython3",
   "version": "3.5.2"
  }
 },
 "nbformat": 4,
 "nbformat_minor": 2
}
